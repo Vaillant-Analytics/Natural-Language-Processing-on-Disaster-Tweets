{
 "cells": [
  {
   "cell_type": "markdown",
   "id": "d87dff06",
   "metadata": {},
   "source": [
    "# Natural Language Processing on Disaster Tweets"
   ]
  },
  {
   "cell_type": "markdown",
   "id": "7e0481b0",
   "metadata": {},
   "source": [
    "By _Alex Vaillant_"
   ]
  },
  {
   "cell_type": "markdown",
   "id": "489fe34c",
   "metadata": {},
   "source": [
    "Dataset Source: https://www.kaggle.com/c/nlp-getting-started/overview"
   ]
  },
  {
   "cell_type": "markdown",
   "id": "3f11eb36",
   "metadata": {},
   "source": [
    "## Research Question"
   ]
  },
  {
   "cell_type": "markdown",
   "id": "0c75f236",
   "metadata": {},
   "source": [
    "_To what extent can we predict if a tweet is about a Disaster using Natural Language Processing, Neural Networks, and Universal Sentence Encoder?_"
   ]
  },
  {
   "cell_type": "markdown",
   "id": "0453b89a",
   "metadata": {},
   "source": [
    "# Set Up Environment"
   ]
  },
  {
   "cell_type": "markdown",
   "id": "55d29ea7",
   "metadata": {},
   "source": [
    "## Import Necessary Libraries"
   ]
  },
  {
   "cell_type": "code",
   "execution_count": 1,
   "id": "0061d763",
   "metadata": {},
   "outputs": [],
   "source": [
    "import pandas as pd\n",
    "import numpy as np\n",
    "from numpy import random\n",
    "import tensorflow as tf\n",
    "import keras\n",
    "import tensorflow_hub\n",
    "import tensorflow_text\n",
    "import seaborn as sns\n",
    "from matplotlib import pyplot as plt\n",
    "from keras import layers, Sequential\n",
    "from keras.layers import Dense, Dropout\n",
    "from keras.models import load_model\n",
    "from keras.callbacks import EarlyStopping\n",
    "from sklearn.preprocessing import OneHotEncoder\n",
    "from sklearn.model_selection import GridSearchCV\n",
    "from keras.wrappers.scikit_learn import KerasClassifier\n",
    "from platform import python_version"
   ]
  },
  {
   "cell_type": "code",
   "execution_count": 2,
   "id": "12a5f00a",
   "metadata": {},
   "outputs": [
    {
     "name": "stdout",
     "output_type": "stream",
     "text": [
      "3.7.10\n"
     ]
    }
   ],
   "source": [
    "print(python_version())"
   ]
  },
  {
   "cell_type": "code",
   "execution_count": 3,
   "id": "b35d1d1c",
   "metadata": {},
   "outputs": [],
   "source": [
    "RandomSeed = random.seed(94)"
   ]
  },
  {
   "cell_type": "markdown",
   "id": "16c61904",
   "metadata": {},
   "source": [
    "## Load Universal Sentence Encoder via tensowflow_hub.load()"
   ]
  },
  {
   "cell_type": "code",
   "execution_count": 4,
   "id": "68d619be",
   "metadata": {},
   "outputs": [],
   "source": [
    "UniversalSentenceEncoder = tensorflow_hub.load(\"https://tfhub.dev/google/universal-sentence-encoder-multilingual-large/3\")"
   ]
  },
  {
   "cell_type": "markdown",
   "id": "a7bc8b86",
   "metadata": {},
   "source": [
    "# Data Gathering"
   ]
  },
  {
   "cell_type": "code",
   "execution_count": 5,
   "id": "4c94313e",
   "metadata": {},
   "outputs": [],
   "source": [
    "DisasterTweetsUrl = \"C:/Users/tedda/Desktop/Data Science Portfolio/Machine Learning/Sentiment Analysis/Natural Language Processing on Disaster Tweets/Raw Datasets/train.csv\"\n",
    "TweetTestData = \"C:/Users/tedda/Desktop/Data Science Portfolio/Machine Learning/Sentiment Analysis/Natural Language Processing on Disaster Tweets/Raw Datasets/test.csv\"\n",
    "RawDisasterTweetData = pd.read_csv(DisasterTweetsUrl)\n",
    "TweetTestData = pd.read_csv(TweetTestData)"
   ]
  },
  {
   "cell_type": "markdown",
   "id": "382bc081",
   "metadata": {},
   "source": [
    "# Exploratory Data Analysis"
   ]
  },
  {
   "cell_type": "code",
   "execution_count": 6,
   "id": "bccfd7d5",
   "metadata": {
    "scrolled": true
   },
   "outputs": [
    {
     "name": "stdout",
     "output_type": "stream",
     "text": [
      "Training Data Shape: (7613, 5)\n",
      "Training Data Columns: Index(['id', 'keyword', 'location', 'text', 'target'], dtype='object') \n",
      "\n",
      "Testing Data Shape: (3263, 4)\n",
      "Testing Data Columns: Index(['id', 'keyword', 'location', 'text'], dtype='object')\n"
     ]
    }
   ],
   "source": [
    "print(\"Training Data Shape:\", RawDisasterTweetData.shape)\n",
    "print(\"Training Data Columns:\", RawDisasterTweetData.columns, \"\\n\")\n",
    "print(\"Testing Data Shape:\", TweetTestData.shape)\n",
    "print(\"Testing Data Columns:\",TweetTestData.columns)"
   ]
  },
  {
   "cell_type": "code",
   "execution_count": 7,
   "id": "46831486",
   "metadata": {},
   "outputs": [
    {
     "data": {
      "text/plain": [
       "id             0\n",
       "keyword       61\n",
       "location    2533\n",
       "text           0\n",
       "target         0\n",
       "dtype: int64"
      ]
     },
     "execution_count": 7,
     "metadata": {},
     "output_type": "execute_result"
    }
   ],
   "source": [
    "# Check data sparsity in the necessary fields (text and target)\n",
    "RawDisasterTweetData.isnull().sum()"
   ]
  },
  {
   "cell_type": "code",
   "execution_count": 8,
   "id": "57eee580",
   "metadata": {},
   "outputs": [
    {
     "data": {
      "image/png": "[encoded data removed]",
      "text/plain": [
       "<Figure size 640x480 with 1 Axes>"
      ]
     },
     "metadata": {},
     "output_type": "display_data"
    }
   ],
   "source": [
    "sns.countplot(x = 'target', data = RawDisasterTweetData)\n",
    "plt.show()"
   ]
  },
  {
   "cell_type": "markdown",
   "id": "e6dda39a",
   "metadata": {},
   "source": [
    "There's an uneven distribution of 0 vs 1. Use Random Sampling to fix this."
   ]
  },
  {
   "cell_type": "markdown",
   "id": "9ae860b8",
   "metadata": {},
   "source": [
    "# Data Preparation"
   ]
  },
  {
   "cell_type": "markdown",
   "id": "4c5cf42d",
   "metadata": {},
   "source": [
    "## Use Random Sampling to create an even outcome distribution"
   ]
  },
  {
   "cell_type": "code",
   "execution_count": 9,
   "id": "5ad7e275",
   "metadata": {},
   "outputs": [
    {
     "name": "stdout",
     "output_type": "stream",
     "text": [
      "Number of Disaster Tweets: 3271\n",
      "Number of Non-Disaster Tweets: 3271\n"
     ]
    }
   ],
   "source": [
    "DisasterTweets = RawDisasterTweetData[RawDisasterTweetData['target'] == 1]\n",
    "NonDisasterTweets = RawDisasterTweetData[RawDisasterTweetData['target']==0]\n",
    "NonDisasterTweetsSample = NonDisasterTweets.sample(n = len(DisasterTweets), random_state = RandomSeed)\n",
    "print(\"Number of Disaster Tweets:\", DisasterTweets.shape[0])\n",
    "print(\"Number of Non-Disaster Tweets:\", NonDisasterTweetsSample.shape[0])"
   ]
  },
  {
   "cell_type": "code",
   "execution_count": 10,
   "id": "15a552a4",
   "metadata": {},
   "outputs": [
    {
     "data": {
      "image/png": "[encoded data removed]",
      "text/plain": [
       "<Figure size 640x480 with 1 Axes>"
      ]
     },
     "metadata": {},
     "output_type": "display_data"
    }
   ],
   "source": [
    "TrainingTweetsDF = DisasterTweets.append(NonDisasterTweetsSample).reset_index(drop = True)\n",
    "sns.countplot(x = 'target', data = TrainingTweetsDF)\n",
    "plt.show()"
   ]
  },
  {
   "cell_type": "code",
   "execution_count": 11,
   "id": "c076726b",
   "metadata": {},
   "outputs": [
    {
     "name": "stdout",
     "output_type": "stream",
     "text": [
      "Training Tweets shape: (6542, 5)\n"
     ]
    },
    {
     "data": {
      "text/html": [
       "<div>\n",
       "<style scoped>\n",
       "    .dataframe tbody tr th:only-of-type {\n",
       "        vertical-align: middle;\n",
       "    }\n",
       "\n",
       "    .dataframe tbody tr th {\n",
       "        vertical-align: top;\n",
       "    }\n",
       "\n",
       "    .dataframe thead th {\n",
       "        text-align: right;\n",
       "    }\n",
       "</style>\n",
       "<table border=\"1\" class=\"dataframe\">\n",
       "  <thead>\n",
       "    <tr style=\"text-align: right;\">\n",
       "      <th></th>\n",
       "      <th>id</th>\n",
       "      <th>keyword</th>\n",
       "      <th>location</th>\n",
       "      <th>text</th>\n",
       "      <th>target</th>\n",
       "    </tr>\n",
       "  </thead>\n",
       "  <tbody>\n",
       "    <tr>\n",
       "      <th>0</th>\n",
       "      <td>1</td>\n",
       "      <td>NaN</td>\n",
       "      <td>NaN</td>\n",
       "      <td>Our Deeds are the Reason of this #earthquake M...</td>\n",
       "      <td>1</td>\n",
       "    </tr>\n",
       "    <tr>\n",
       "      <th>1</th>\n",
       "      <td>4</td>\n",
       "      <td>NaN</td>\n",
       "      <td>NaN</td>\n",
       "      <td>Forest fire near La Ronge Sask. Canada</td>\n",
       "      <td>1</td>\n",
       "    </tr>\n",
       "    <tr>\n",
       "      <th>2</th>\n",
       "      <td>5</td>\n",
       "      <td>NaN</td>\n",
       "      <td>NaN</td>\n",
       "      <td>All residents asked to 'shelter in place' are ...</td>\n",
       "      <td>1</td>\n",
       "    </tr>\n",
       "    <tr>\n",
       "      <th>3</th>\n",
       "      <td>6</td>\n",
       "      <td>NaN</td>\n",
       "      <td>NaN</td>\n",
       "      <td>13,000 people receive #wildfires evacuation or...</td>\n",
       "      <td>1</td>\n",
       "    </tr>\n",
       "    <tr>\n",
       "      <th>4</th>\n",
       "      <td>7</td>\n",
       "      <td>NaN</td>\n",
       "      <td>NaN</td>\n",
       "      <td>Just got sent this photo from Ruby #Alaska as ...</td>\n",
       "      <td>1</td>\n",
       "    </tr>\n",
       "  </tbody>\n",
       "</table>\n",
       "</div>"
      ],
      "text/plain": [
       "   id keyword location                                               text  \\\n",
       "0   1     NaN      NaN  Our Deeds are the Reason of this #earthquake M...   \n",
       "1   4     NaN      NaN             Forest fire near La Ronge Sask. Canada   \n",
       "2   5     NaN      NaN  All residents asked to 'shelter in place' are ...   \n",
       "3   6     NaN      NaN  13,000 people receive #wildfires evacuation or...   \n",
       "4   7     NaN      NaN  Just got sent this photo from Ruby #Alaska as ...   \n",
       "\n",
       "   target  \n",
       "0       1  \n",
       "1       1  \n",
       "2       1  \n",
       "3       1  \n",
       "4       1  "
      ]
     },
     "execution_count": 11,
     "metadata": {},
     "output_type": "execute_result"
    }
   ],
   "source": [
    "print(\"Training Tweets shape:\", TrainingTweetsDF.shape)\n",
    "TrainingTweetsDF.head()"
   ]
  },
  {
   "cell_type": "markdown",
   "id": "396727b5",
   "metadata": {},
   "source": [
    "Only the text and target features are needed. Remove other fields."
   ]
  },
  {
   "cell_type": "markdown",
   "id": "8a7ab1c1",
   "metadata": {},
   "source": [
    "## Drop Unnecessary Features"
   ]
  },
  {
   "cell_type": "code",
   "execution_count": 12,
   "id": "63e15a21",
   "metadata": {},
   "outputs": [
    {
     "data": {
      "text/html": [
       "<div>\n",
       "<style scoped>\n",
       "    .dataframe tbody tr th:only-of-type {\n",
       "        vertical-align: middle;\n",
       "    }\n",
       "\n",
       "    .dataframe tbody tr th {\n",
       "        vertical-align: top;\n",
       "    }\n",
       "\n",
       "    .dataframe thead th {\n",
       "        text-align: right;\n",
       "    }\n",
       "</style>\n",
       "<table border=\"1\" class=\"dataframe\">\n",
       "  <thead>\n",
       "    <tr style=\"text-align: right;\">\n",
       "      <th></th>\n",
       "      <th>text</th>\n",
       "      <th>target</th>\n",
       "    </tr>\n",
       "  </thead>\n",
       "  <tbody>\n",
       "    <tr>\n",
       "      <th>0</th>\n",
       "      <td>Our Deeds are the Reason of this #earthquake M...</td>\n",
       "      <td>1</td>\n",
       "    </tr>\n",
       "    <tr>\n",
       "      <th>1</th>\n",
       "      <td>Forest fire near La Ronge Sask. Canada</td>\n",
       "      <td>1</td>\n",
       "    </tr>\n",
       "    <tr>\n",
       "      <th>2</th>\n",
       "      <td>All residents asked to 'shelter in place' are ...</td>\n",
       "      <td>1</td>\n",
       "    </tr>\n",
       "    <tr>\n",
       "      <th>3</th>\n",
       "      <td>13,000 people receive #wildfires evacuation or...</td>\n",
       "      <td>1</td>\n",
       "    </tr>\n",
       "    <tr>\n",
       "      <th>4</th>\n",
       "      <td>Just got sent this photo from Ruby #Alaska as ...</td>\n",
       "      <td>1</td>\n",
       "    </tr>\n",
       "  </tbody>\n",
       "</table>\n",
       "</div>"
      ],
      "text/plain": [
       "                                                text  target\n",
       "0  Our Deeds are the Reason of this #earthquake M...       1\n",
       "1             Forest fire near La Ronge Sask. Canada       1\n",
       "2  All residents asked to 'shelter in place' are ...       1\n",
       "3  13,000 people receive #wildfires evacuation or...       1\n",
       "4  Just got sent this photo from Ruby #Alaska as ...       1"
      ]
     },
     "execution_count": 12,
     "metadata": {},
     "output_type": "execute_result"
    }
   ],
   "source": [
    "TrainingTweets = TrainingTweetsDF[['text','target']]\n",
    "TrainingTweets.head()"
   ]
  },
  {
   "cell_type": "markdown",
   "id": "58adfce4",
   "metadata": {},
   "source": [
    "## Separate the Text and Target Values"
   ]
  },
  {
   "cell_type": "code",
   "execution_count": 13,
   "id": "95d008f0",
   "metadata": {},
   "outputs": [],
   "source": [
    "X = TrainingTweets['text']"
   ]
  },
  {
   "cell_type": "markdown",
   "id": "6b13ff6d",
   "metadata": {},
   "source": [
    "### OneHotEncode the Target Values"
   ]
  },
  {
   "cell_type": "code",
   "execution_count": 14,
   "id": "b74974cf",
   "metadata": {},
   "outputs": [
    {
     "data": {
      "text/plain": [
       "array([[0., 1.],\n",
       "       [0., 1.],\n",
       "       [0., 1.],\n",
       "       ...,\n",
       "       [1., 0.],\n",
       "       [1., 0.],\n",
       "       [1., 0.]])"
      ]
     },
     "execution_count": 14,
     "metadata": {},
     "output_type": "execute_result"
    }
   ],
   "source": [
    "TargetTrain = OneHotEncoder(sparse = False).fit_transform(TrainingTweets['target'].to_numpy().reshape(-1,1))\n",
    "TargetTrain"
   ]
  },
  {
   "cell_type": "markdown",
   "id": "5ab4c420",
   "metadata": {},
   "source": [
    "## Use the UniversalSentenceEncoder on the Tweet Text"
   ]
  },
  {
   "cell_type": "code",
   "execution_count": 15,
   "id": "1aa22283",
   "metadata": {},
   "outputs": [],
   "source": [
    "X_train = []\n",
    "for tweet in X:\n",
    "    Embedded = UniversalSentenceEncoder(tweet)\n",
    "    EmbeddedTweets = tf.reshape(Embedded, [-1]).numpy()\n",
    "    X_train.append(EmbeddedTweets)\n",
    "X_train = np.array(X_train)"
   ]
  },
  {
   "cell_type": "code",
   "execution_count": 16,
   "id": "bff7ea5e",
   "metadata": {},
   "outputs": [],
   "source": [
    "# Do the Same for the testing data\n",
    "TestTweets = TweetTestData['text']\n",
    "X_test = []\n",
    "for tweet in TestTweets:\n",
    "    Embedded = UniversalSentenceEncoder(tweet)\n",
    "    EmbeddedTweets = tf.reshape(Embedded, [-1]).numpy()\n",
    "    X_test.append(EmbeddedTweets)\n",
    "X_test = np.array(X_test)"
   ]
  },
  {
   "cell_type": "code",
   "execution_count": 17,
   "id": "dcc9f2b7",
   "metadata": {},
   "outputs": [
    {
     "name": "stdout",
     "output_type": "stream",
     "text": [
      "Training Set Shape: (6542, 512)\n",
      "Testing Set Shape: (3263, 512)\n"
     ]
    }
   ],
   "source": [
    "print(\"Training Set Shape:\", X_train.shape)\n",
    "print(\"Testing Set Shape:\", X_test.shape)"
   ]
  },
  {
   "cell_type": "markdown",
   "id": "287e1f30",
   "metadata": {},
   "source": [
    "# Model Building"
   ]
  },
  {
   "cell_type": "code",
   "execution_count": 18,
   "id": "c985d929",
   "metadata": {},
   "outputs": [
    {
     "name": "stdout",
     "output_type": "stream",
     "text": [
      "Model: \"sequential\"\n",
      "_________________________________________________________________\n",
      "Layer (type)                 Output Shape              Param #   \n",
      "=================================================================\n",
      "dense (Dense)                (None, 128)               65664     \n",
      "_________________________________________________________________\n",
      "dropout (Dropout)            (None, 128)               0         \n",
      "_________________________________________________________________\n",
      "dense_1 (Dense)              (None, 128)               16512     \n",
      "_________________________________________________________________\n",
      "dropout_1 (Dropout)          (None, 128)               0         \n",
      "_________________________________________________________________\n",
      "dense_2 (Dense)              (None, 64)                8256      \n",
      "_________________________________________________________________\n",
      "dropout_2 (Dropout)          (None, 64)                0         \n",
      "_________________________________________________________________\n",
      "dense_3 (Dense)              (None, 2)                 130       \n",
      "=================================================================\n",
      "Total params: 90,562\n",
      "Trainable params: 90,562\n",
      "Non-trainable params: 0\n",
      "_________________________________________________________________\n"
     ]
    }
   ],
   "source": [
    "model = Sequential()\n",
    "model.add(Dense(128, input_shape = (X_train.shape[1],), activation = 'relu'))\n",
    "model.add(Dropout(rate = 0.65))\n",
    "model.add(Dense(128, activation = 'sigmoid'))\n",
    "model.add(Dropout(rate = 0.65))\n",
    "model.add(Dense(64, activation = 'sigmoid'))\n",
    "model.add(Dropout(rate = 0.65))\n",
    "model.add(Dense(2, activation = 'sigmoid'))\n",
    "\n",
    "model.compile(loss = 'binary_crossentropy',\n",
    "                 optimizer = 'adam',\n",
    "                 metrics = ['accuracy'])\n",
    "\n",
    "model.summary()"
   ]
  },
  {
   "cell_type": "markdown",
   "id": "a8802b3e",
   "metadata": {},
   "source": [
    "## Model Training"
   ]
  },
  {
   "cell_type": "markdown",
   "id": "26373084",
   "metadata": {},
   "source": [
    "### Hyperparameter Tuning"
   ]
  },
  {
   "cell_type": "code",
   "execution_count": 19,
   "id": "7906b929",
   "metadata": {
    "scrolled": false
   },
   "outputs": [
    {
     "name": "stdout",
     "output_type": "stream",
     "text": [
      "Epoch 1/20\n",
      "174/174 [==============================] - 34s 8ms/step - loss: 0.7647 - accuracy: 0.5401 - val_loss: 0.8670 - val_accuracy: 0.0265\n",
      "Epoch 2/20\n",
      "174/174 [==============================] - 1s 3ms/step - loss: 0.5821 - accuracy: 0.6974 - val_loss: 0.4695 - val_accuracy: 0.8340\n",
      "Epoch 3/20\n",
      "174/174 [==============================] - 0s 3ms/step - loss: 0.4845 - accuracy: 0.7831 - val_loss: 0.5761 - val_accuracy: 0.7862\n",
      "Epoch 4/20\n",
      "174/174 [==============================] - 0s 3ms/step - loss: 0.4509 - accuracy: 0.7963 - val_loss: 0.4610 - val_accuracy: 0.8452\n",
      "Epoch 5/20\n",
      "174/174 [==============================] - 1s 3ms/step - loss: 0.4407 - accuracy: 0.8027 - val_loss: 0.5914 - val_accuracy: 0.7800\n",
      "Epoch 6/20\n",
      "174/174 [==============================] - 0s 3ms/step - loss: 0.4406 - accuracy: 0.8051 - val_loss: 0.4285 - val_accuracy: 0.8605\n",
      "Epoch 7/20\n",
      "174/174 [==============================] - 0s 3ms/step - loss: 0.4134 - accuracy: 0.8260 - val_loss: 0.4320 - val_accuracy: 0.8585\n",
      "Epoch 8/20\n",
      "174/174 [==============================] - 0s 3ms/step - loss: 0.4143 - accuracy: 0.8186 - val_loss: 0.5106 - val_accuracy: 0.8218\n"
     ]
    }
   ],
   "source": [
    "callback = EarlyStopping(monitor = 'val_accuracy', patience = 2)\n",
    "\n",
    "history = model.fit(X_train, TargetTrain, \n",
    "                    epochs = 20, batch_size = 32, \n",
    "                    validation_split = 0.15, callbacks = callback, \n",
    "                    verbose = 1, shuffle = True)"
   ]
  },
  {
   "cell_type": "markdown",
   "id": "b474dea9",
   "metadata": {},
   "source": [
    "## Model Evaulation"
   ]
  },
  {
   "cell_type": "code",
   "execution_count": 20,
   "id": "a1fd1b70",
   "metadata": {},
   "outputs": [
    {
     "data": {
      "image/png": "[encoded data removed]",
      "text/plain": [
       "<Figure size 640x480 with 2 Axes>"
      ]
     },
     "metadata": {},
     "output_type": "display_data"
    }
   ],
   "source": [
    "lossplot = plt.subplot(1, 2, 1)\n",
    "plt.plot(history.history['loss'], label = 'train loss')\n",
    "plt.plot(history.history['val_loss'], label = 'val loss')\n",
    "plt.xlabel('epoch')\n",
    "plt.ylabel('crossentropy loss')\n",
    "plt.legend()\n",
    "\n",
    "accplot = plt.subplot(1, 2, 2)\n",
    "plt.plot(history.history['accuracy'], label = 'train acc')\n",
    "plt.plot(history.history['val_accuracy'], label = 'val acc')\n",
    "plt.xlabel('epoch')\n",
    "plt.ylabel('crossentropy loss')\n",
    "plt.legend()\n",
    "plt.show()"
   ]
  },
  {
   "cell_type": "markdown",
   "id": "ed608cde",
   "metadata": {},
   "source": [
    "## Save and Load Model"
   ]
  },
  {
   "cell_type": "code",
   "execution_count": 21,
   "id": "4dfdc1ab",
   "metadata": {},
   "outputs": [],
   "source": [
    "model_url = \"C:/Users/tedda/Desktop/Data Science Portfolio/Machine Learning/Sentiment Analysis/Natural Language Processing on Disaster Tweets/Exported Models/NLPModel_DeepNN.h5\"\n",
    "model.save(model_url)"
   ]
  },
  {
   "cell_type": "code",
   "execution_count": 22,
   "id": "4f1f241d",
   "metadata": {},
   "outputs": [],
   "source": [
    "NLPModel = load_model(model_url)"
   ]
  },
  {
   "cell_type": "markdown",
   "id": "dd71fb5f",
   "metadata": {},
   "source": [
    "# Predictions"
   ]
  },
  {
   "cell_type": "code",
   "execution_count": 23,
   "id": "e0bbf824",
   "metadata": {},
   "outputs": [
    {
     "data": {
      "text/html": [
       "<div>\n",
       "<style scoped>\n",
       "    .dataframe tbody tr th:only-of-type {\n",
       "        vertical-align: middle;\n",
       "    }\n",
       "\n",
       "    .dataframe tbody tr th {\n",
       "        vertical-align: top;\n",
       "    }\n",
       "\n",
       "    .dataframe thead th {\n",
       "        text-align: right;\n",
       "    }\n",
       "</style>\n",
       "<table border=\"1\" class=\"dataframe\">\n",
       "  <thead>\n",
       "    <tr style=\"text-align: right;\">\n",
       "      <th></th>\n",
       "      <th>Disaster</th>\n",
       "    </tr>\n",
       "  </thead>\n",
       "  <tbody>\n",
       "    <tr>\n",
       "      <th>0</th>\n",
       "      <td>0.791299</td>\n",
       "    </tr>\n",
       "    <tr>\n",
       "      <th>1</th>\n",
       "      <td>0.950866</td>\n",
       "    </tr>\n",
       "    <tr>\n",
       "      <th>2</th>\n",
       "      <td>0.824096</td>\n",
       "    </tr>\n",
       "    <tr>\n",
       "      <th>3</th>\n",
       "      <td>0.912066</td>\n",
       "    </tr>\n",
       "    <tr>\n",
       "      <th>4</th>\n",
       "      <td>0.987068</td>\n",
       "    </tr>\n",
       "  </tbody>\n",
       "</table>\n",
       "</div>"
      ],
      "text/plain": [
       "   Disaster\n",
       "0  0.791299\n",
       "1  0.950866\n",
       "2  0.824096\n",
       "3  0.912066\n",
       "4  0.987068"
      ]
     },
     "execution_count": 23,
     "metadata": {},
     "output_type": "execute_result"
    }
   ],
   "source": [
    "predictions = NLPModel.predict(X_test)\n",
    "predict = pd.DataFrame(predictions, columns = ['Non-Disaster', 'Disaster']).drop('Non-Disaster', axis = 1)\n",
    "predict.head()"
   ]
  },
  {
   "cell_type": "code",
   "execution_count": 24,
   "id": "f5023a56",
   "metadata": {},
   "outputs": [
    {
     "data": {
      "text/html": [
       "<div>\n",
       "<style scoped>\n",
       "    .dataframe tbody tr th:only-of-type {\n",
       "        vertical-align: middle;\n",
       "    }\n",
       "\n",
       "    .dataframe tbody tr th {\n",
       "        vertical-align: top;\n",
       "    }\n",
       "\n",
       "    .dataframe thead th {\n",
       "        text-align: right;\n",
       "    }\n",
       "</style>\n",
       "<table border=\"1\" class=\"dataframe\">\n",
       "  <thead>\n",
       "    <tr style=\"text-align: right;\">\n",
       "      <th></th>\n",
       "      <th>id</th>\n",
       "      <th>keyword</th>\n",
       "      <th>location</th>\n",
       "      <th>text</th>\n",
       "      <th>target</th>\n",
       "    </tr>\n",
       "  </thead>\n",
       "  <tbody>\n",
       "    <tr>\n",
       "      <th>0</th>\n",
       "      <td>0</td>\n",
       "      <td>NaN</td>\n",
       "      <td>NaN</td>\n",
       "      <td>Just happened a terrible car crash</td>\n",
       "      <td>1</td>\n",
       "    </tr>\n",
       "    <tr>\n",
       "      <th>1</th>\n",
       "      <td>2</td>\n",
       "      <td>NaN</td>\n",
       "      <td>NaN</td>\n",
       "      <td>Heard about #earthquake is different cities, s...</td>\n",
       "      <td>1</td>\n",
       "    </tr>\n",
       "    <tr>\n",
       "      <th>2</th>\n",
       "      <td>3</td>\n",
       "      <td>NaN</td>\n",
       "      <td>NaN</td>\n",
       "      <td>there is a forest fire at spot pond, geese are...</td>\n",
       "      <td>1</td>\n",
       "    </tr>\n",
       "    <tr>\n",
       "      <th>3</th>\n",
       "      <td>9</td>\n",
       "      <td>NaN</td>\n",
       "      <td>NaN</td>\n",
       "      <td>Apocalypse lighting. #Spokane #wildfires</td>\n",
       "      <td>1</td>\n",
       "    </tr>\n",
       "    <tr>\n",
       "      <th>4</th>\n",
       "      <td>11</td>\n",
       "      <td>NaN</td>\n",
       "      <td>NaN</td>\n",
       "      <td>Typhoon Soudelor kills 28 in China and Taiwan</td>\n",
       "      <td>1</td>\n",
       "    </tr>\n",
       "  </tbody>\n",
       "</table>\n",
       "</div>"
      ],
      "text/plain": [
       "   id keyword location                                               text  \\\n",
       "0   0     NaN      NaN                 Just happened a terrible car crash   \n",
       "1   2     NaN      NaN  Heard about #earthquake is different cities, s...   \n",
       "2   3     NaN      NaN  there is a forest fire at spot pond, geese are...   \n",
       "3   9     NaN      NaN           Apocalypse lighting. #Spokane #wildfires   \n",
       "4  11     NaN      NaN      Typhoon Soudelor kills 28 in China and Taiwan   \n",
       "\n",
       "   target  \n",
       "0       1  \n",
       "1       1  \n",
       "2       1  \n",
       "3       1  \n",
       "4       1  "
      ]
     },
     "execution_count": 24,
     "metadata": {},
     "output_type": "execute_result"
    }
   ],
   "source": [
    "TweetTestData['target'] = predict['Disaster'].apply(lambda x: 1 if x >= 0.5 else 0)\n",
    "TweetTestData.head()"
   ]
  },
  {
   "cell_type": "code",
   "execution_count": 25,
   "id": "5f65637f",
   "metadata": {},
   "outputs": [
    {
     "data": {
      "text/html": [
       "<div>\n",
       "<style scoped>\n",
       "    .dataframe tbody tr th:only-of-type {\n",
       "        vertical-align: middle;\n",
       "    }\n",
       "\n",
       "    .dataframe tbody tr th {\n",
       "        vertical-align: top;\n",
       "    }\n",
       "\n",
       "    .dataframe thead th {\n",
       "        text-align: right;\n",
       "    }\n",
       "</style>\n",
       "<table border=\"1\" class=\"dataframe\">\n",
       "  <thead>\n",
       "    <tr style=\"text-align: right;\">\n",
       "      <th></th>\n",
       "      <th>id</th>\n",
       "      <th>target</th>\n",
       "    </tr>\n",
       "  </thead>\n",
       "  <tbody>\n",
       "    <tr>\n",
       "      <th>0</th>\n",
       "      <td>0</td>\n",
       "      <td>1</td>\n",
       "    </tr>\n",
       "    <tr>\n",
       "      <th>1</th>\n",
       "      <td>2</td>\n",
       "      <td>1</td>\n",
       "    </tr>\n",
       "    <tr>\n",
       "      <th>2</th>\n",
       "      <td>3</td>\n",
       "      <td>1</td>\n",
       "    </tr>\n",
       "    <tr>\n",
       "      <th>3</th>\n",
       "      <td>9</td>\n",
       "      <td>1</td>\n",
       "    </tr>\n",
       "    <tr>\n",
       "      <th>4</th>\n",
       "      <td>11</td>\n",
       "      <td>1</td>\n",
       "    </tr>\n",
       "  </tbody>\n",
       "</table>\n",
       "</div>"
      ],
      "text/plain": [
       "   id  target\n",
       "0   0       1\n",
       "1   2       1\n",
       "2   3       1\n",
       "3   9       1\n",
       "4  11       1"
      ]
     },
     "execution_count": 25,
     "metadata": {},
     "output_type": "execute_result"
    }
   ],
   "source": [
    "SubmissionDF = TweetTestData[['id','target']]\n",
    "SubmissionDF.head()"
   ]
  },
  {
   "cell_type": "code",
   "execution_count": 26,
   "id": "e450c276",
   "metadata": {},
   "outputs": [],
   "source": [
    "SubmissionDF.to_csv(\"C:/Users/tedda/Desktop/Data Science Portfolio/Machine Learning/Sentiment Analysis/Natural Language Processing on Disaster Tweets/Explanations/VaillantSubmission1.csv\", index = False)"
   ]
  }
 ],
 "metadata": {
  "kernelspec": {
   "display_name": "Python 3",
   "language": "python",
   "name": "python3"
  },
  "language_info": {
   "codemirror_mode": {
    "name": "ipython",
    "version": 3
   },
   "file_extension": ".py",
   "mimetype": "text/x-python",
   "name": "python",
   "nbconvert_exporter": "python",
   "pygments_lexer": "ipython3",
   "version": "3.7.10"
  }
 },
 "nbformat": 4,
 "nbformat_minor": 5
}
